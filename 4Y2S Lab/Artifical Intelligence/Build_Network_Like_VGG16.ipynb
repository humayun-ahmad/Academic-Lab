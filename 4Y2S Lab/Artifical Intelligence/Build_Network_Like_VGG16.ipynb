{
  "nbformat": 4,
  "nbformat_minor": 0,
  "metadata": {
    "colab": {
      "provenance": []
    },
    "kernelspec": {
      "name": "python3",
      "display_name": "Python 3"
    },
    "language_info": {
      "name": "python"
    }
  },
  "cells": [
    {
      "cell_type": "markdown",
      "source": [
        "# **Import Necessary Libray's**"
      ],
      "metadata": {
        "id": "TRYE1HtMa73C"
      }
    },
    {
      "cell_type": "code",
      "source": [
        "from tensorflow.keras.layers import Input, Flatten, Dense, Conv2D, MaxPool2D\n",
        "from tensorflow.keras.models import Model\n",
        "from tensorflow.keras.applications.vgg16 import VGG16"
      ],
      "metadata": {
        "id": "Imvn0GlkbCS2"
      },
      "execution_count": 1,
      "outputs": []
    },
    {
      "cell_type": "markdown",
      "source": [
        "# **VGG-16 Architecture**\n"
      ],
      "metadata": {
        "id": "jOJBUvlTj1s7"
      }
    },
    {
      "cell_type": "code",
      "source": [
        "model = VGG16()\n",
        "model.summary()"
      ],
      "metadata": {
        "colab": {
          "base_uri": "https://localhost:8080/"
        },
        "id": "A1AYdbD2ZyQw",
        "outputId": "03a7eebd-d764-4d6c-95c7-b0437f60a357"
      },
      "execution_count": 2,
      "outputs": [
        {
          "output_type": "stream",
          "name": "stdout",
          "text": [
            "Downloading data from https://storage.googleapis.com/tensorflow/keras-applications/vgg16/vgg16_weights_tf_dim_ordering_tf_kernels.h5\n",
            "553467096/553467096 [==============================] - 6s 0us/step\n",
            "Model: \"vgg16\"\n",
            "_________________________________________________________________\n",
            " Layer (type)                Output Shape              Param #   \n",
            "=================================================================\n",
            " input_1 (InputLayer)        [(None, 224, 224, 3)]     0         \n",
            "                                                                 \n",
            " block1_conv1 (Conv2D)       (None, 224, 224, 64)      1792      \n",
            "                                                                 \n",
            " block1_conv2 (Conv2D)       (None, 224, 224, 64)      36928     \n",
            "                                                                 \n",
            " block1_pool (MaxPooling2D)  (None, 112, 112, 64)      0         \n",
            "                                                                 \n",
            " block2_conv1 (Conv2D)       (None, 112, 112, 128)     73856     \n",
            "                                                                 \n",
            " block2_conv2 (Conv2D)       (None, 112, 112, 128)     147584    \n",
            "                                                                 \n",
            " block2_pool (MaxPooling2D)  (None, 56, 56, 128)       0         \n",
            "                                                                 \n",
            " block3_conv1 (Conv2D)       (None, 56, 56, 256)       295168    \n",
            "                                                                 \n",
            " block3_conv2 (Conv2D)       (None, 56, 56, 256)       590080    \n",
            "                                                                 \n",
            " block3_conv3 (Conv2D)       (None, 56, 56, 256)       590080    \n",
            "                                                                 \n",
            " block3_pool (MaxPooling2D)  (None, 28, 28, 256)       0         \n",
            "                                                                 \n",
            " block4_conv1 (Conv2D)       (None, 28, 28, 512)       1180160   \n",
            "                                                                 \n",
            " block4_conv2 (Conv2D)       (None, 28, 28, 512)       2359808   \n",
            "                                                                 \n",
            " block4_conv3 (Conv2D)       (None, 28, 28, 512)       2359808   \n",
            "                                                                 \n",
            " block4_pool (MaxPooling2D)  (None, 14, 14, 512)       0         \n",
            "                                                                 \n",
            " block5_conv1 (Conv2D)       (None, 14, 14, 512)       2359808   \n",
            "                                                                 \n",
            " block5_conv2 (Conv2D)       (None, 14, 14, 512)       2359808   \n",
            "                                                                 \n",
            " block5_conv3 (Conv2D)       (None, 14, 14, 512)       2359808   \n",
            "                                                                 \n",
            " block5_pool (MaxPooling2D)  (None, 7, 7, 512)         0         \n",
            "                                                                 \n",
            " flatten (Flatten)           (None, 25088)             0         \n",
            "                                                                 \n",
            " fc1 (Dense)                 (None, 4096)              102764544 \n",
            "                                                                 \n",
            " fc2 (Dense)                 (None, 4096)              16781312  \n",
            "                                                                 \n",
            " predictions (Dense)         (None, 1000)              4097000   \n",
            "                                                                 \n",
            "=================================================================\n",
            "Total params: 138,357,544\n",
            "Trainable params: 138,357,544\n",
            "Non-trainable params: 0\n",
            "_________________________________________________________________\n"
          ]
        }
      ]
    },
    {
      "cell_type": "markdown",
      "source": [
        "# **Building Model Like VGG-16 Architecture**"
      ],
      "metadata": {
        "id": "gGHCB9SRkD5c"
      }
    },
    {
      "cell_type": "markdown",
      "source": [],
      "metadata": {
        "id": "FTgB_7ARa6tT"
      }
    },
    {
      "cell_type": "code",
      "source": [
        "inputs = Input((224,224,3), name = 'Input')\n",
        "\n",
        "block1_conv1 = Conv2D(input_shape=(224,224,3),filters=64,kernel_size=(3,3),padding=\"same\", activation=\"relu\",name='block1_conv1')(inputs)\n",
        "block1_conv2 = Conv2D(input_shape=(224,224,3),filters=64,kernel_size=(3,3),padding=\"same\", activation=\"relu\",name='block1_conv2')(block1_conv1)\n",
        "\n",
        "block1_pool = MaxPool2D(pool_size=(2,2),strides=(2,2), name='block1_pool')(block1_conv2)\n",
        "\n",
        "block2_conv1 = Conv2D(input_shape=(112,112,3),filters=128,kernel_size=(3,3),padding=\"same\", activation=\"relu\",name='block2_conv1')(block1_pool)\n",
        "block2_conv2 = Conv2D(input_shape=(112,112,3),filters=128,kernel_size=(3,3),padding=\"same\", activation=\"relu\",name='block2_conv2')(block2_conv1)\n",
        "\n",
        "block2_pool = MaxPool2D(pool_size=(2,2),strides=(2,2), name='block2_pool')(block2_conv2)\n",
        "\n",
        "block3_conv1 = Conv2D(input_shape=(56,56,3),filters=256,kernel_size=(3,3),padding=\"same\", activation=\"relu\",name='block3_conv1')(block2_pool)\n",
        "block3_conv2 = Conv2D(input_shape=(56,56,3),filters=256,kernel_size=(3,3),padding=\"same\", activation=\"relu\",name='block3_conv2')(block3_conv1)\n",
        "block3_conv3 = Conv2D(input_shape=(56,56,3),filters=256,kernel_size=(3,3),padding=\"same\", activation=\"relu\",name='block3_conv3')(block3_conv2)\n",
        "\n",
        "block3_pool = MaxPool2D(pool_size=(2,2),strides=(2,2), name='block3_pool')(block3_conv3)\n",
        "\n",
        "block4_conv1 = Conv2D(input_shape=(28,28,3),filters=512,kernel_size=(3,3),padding=\"same\", activation=\"relu\",name='block4_conv1')(block3_pool)\n",
        "block4_conv2 = Conv2D(input_shape=(28,28,3),filters=512,kernel_size=(3,3),padding=\"same\", activation=\"relu\",name='block4_conv2')(block4_conv1)\n",
        "block4_conv3 = Conv2D(input_shape=(28,28,3),filters=512,kernel_size=(3,3),padding=\"same\", activation=\"relu\",name='block4_conv3')(block4_conv2)\n",
        "\n",
        "block4_pool = MaxPool2D(pool_size=(2,2),strides=(2,2), name='block4_pool')(block4_conv3)\n",
        "\n",
        "block5_conv1 = Conv2D(input_shape=(14,14,3),filters=512,kernel_size=(3,3),padding=\"same\", activation=\"relu\",name='block5_conv1')(block4_pool)\n",
        "block5_conv2 = Conv2D(input_shape=(14,14,3),filters=512,kernel_size=(3,3),padding=\"same\", activation=\"relu\",name='block5_conv2')(block5_conv1)\n",
        "block5_conv3 = Conv2D(input_shape=(14,14,3),filters=512,kernel_size=(3,3),padding=\"same\", activation=\"relu\",name='block5_conv3')(block5_conv2)\n",
        "\n",
        "block5_pool = MaxPool2D(pool_size=(2,2),strides=(2,2), name='block5_pool')(block5_conv3)\n",
        "\n",
        "flatten = Flatten()(block5_pool)\n",
        "\n",
        "fc1 = Dense(4096, activation = 'sigmoid', name = 'fc1')(flatten)\n",
        "fc2 = Dense(4096, activation = 'sigmoid', name = 'fc2')(fc1)\n",
        "\n",
        "predictions = Dense(1000, activation = 'sigmoid', name = 'predictions')(fc2)\n",
        "model = Model(inputs, predictions)\n",
        "model.summary()"
      ],
      "metadata": {
        "colab": {
          "base_uri": "https://localhost:8080/"
        },
        "id": "YdlTmXhNUCJT",
        "outputId": "7cf4b76e-8886-4eb9-83b5-4b327c839d83"
      },
      "execution_count": 3,
      "outputs": [
        {
          "output_type": "stream",
          "name": "stdout",
          "text": [
            "Model: \"model\"\n",
            "_________________________________________________________________\n",
            " Layer (type)                Output Shape              Param #   \n",
            "=================================================================\n",
            " Input (InputLayer)          [(None, 224, 224, 3)]     0         \n",
            "                                                                 \n",
            " block1_conv1 (Conv2D)       (None, 224, 224, 64)      1792      \n",
            "                                                                 \n",
            " block1_conv2 (Conv2D)       (None, 224, 224, 64)      36928     \n",
            "                                                                 \n",
            " block1_pool (MaxPooling2D)  (None, 112, 112, 64)      0         \n",
            "                                                                 \n",
            " block2_conv1 (Conv2D)       (None, 112, 112, 128)     73856     \n",
            "                                                                 \n",
            " block2_conv2 (Conv2D)       (None, 112, 112, 128)     147584    \n",
            "                                                                 \n",
            " block2_pool (MaxPooling2D)  (None, 56, 56, 128)       0         \n",
            "                                                                 \n",
            " block3_conv1 (Conv2D)       (None, 56, 56, 256)       295168    \n",
            "                                                                 \n",
            " block3_conv2 (Conv2D)       (None, 56, 56, 256)       590080    \n",
            "                                                                 \n",
            " block3_conv3 (Conv2D)       (None, 56, 56, 256)       590080    \n",
            "                                                                 \n",
            " block3_pool (MaxPooling2D)  (None, 28, 28, 256)       0         \n",
            "                                                                 \n",
            " block4_conv1 (Conv2D)       (None, 28, 28, 512)       1180160   \n",
            "                                                                 \n",
            " block4_conv2 (Conv2D)       (None, 28, 28, 512)       2359808   \n",
            "                                                                 \n",
            " block4_conv3 (Conv2D)       (None, 28, 28, 512)       2359808   \n",
            "                                                                 \n",
            " block4_pool (MaxPooling2D)  (None, 14, 14, 512)       0         \n",
            "                                                                 \n",
            " block5_conv1 (Conv2D)       (None, 14, 14, 512)       2359808   \n",
            "                                                                 \n",
            " block5_conv2 (Conv2D)       (None, 14, 14, 512)       2359808   \n",
            "                                                                 \n",
            " block5_conv3 (Conv2D)       (None, 14, 14, 512)       2359808   \n",
            "                                                                 \n",
            " block5_pool (MaxPooling2D)  (None, 7, 7, 512)         0         \n",
            "                                                                 \n",
            " flatten (Flatten)           (None, 25088)             0         \n",
            "                                                                 \n",
            " fc1 (Dense)                 (None, 4096)              102764544 \n",
            "                                                                 \n",
            " fc2 (Dense)                 (None, 4096)              16781312  \n",
            "                                                                 \n",
            " predictions (Dense)         (None, 1000)              4097000   \n",
            "                                                                 \n",
            "=================================================================\n",
            "Total params: 138,357,544\n",
            "Trainable params: 138,357,544\n",
            "Non-trainable params: 0\n",
            "_________________________________________________________________\n"
          ]
        }
      ]
    },
    {
      "cell_type": "code",
      "source": [],
      "metadata": {
        "id": "V9l4Eabal2dQ"
      },
      "execution_count": 3,
      "outputs": []
    }
  ]
}