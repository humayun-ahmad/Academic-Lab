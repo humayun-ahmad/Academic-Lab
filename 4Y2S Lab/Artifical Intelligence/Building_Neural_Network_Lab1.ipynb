{
  "nbformat": 4,
  "nbformat_minor": 0,
  "metadata": {
    "colab": {
      "provenance": []
    },
    "kernelspec": {
      "name": "python3",
      "display_name": "Python 3"
    },
    "language_info": {
      "name": "python"
    }
  },
  "cells": [
    {
      "cell_type": "code",
      "execution_count": null,
      "metadata": {
        "id": "Rcjmur0kT1dc"
      },
      "outputs": [],
      "source": [
        "from tensorflow.keras.layers import Input, Dense\n",
        "from tensorflow.keras.models import Model"
      ]
    },
    {
      "cell_type": "code",
      "source": [
        "#Input Layer\n",
        "inputs = Input(shape=(756,),name=\"Input_Layer\")\n",
        "\n",
        "# Hidden Layer\n",
        "dense_layer1 = Dense(16,activation='sigmoid',name='Dense_Layer1')(inputs)\n",
        "dense_layer2 = Dense(32,activation='relu',name='Dense_Layer2')(dense_layer1)\n",
        "dense_layer3 = Dense(64,activation='tanh',name='Dense_Layer3')(dense_layer2)\n",
        "# Output Layer\n",
        "outputs = Dense(10,activation='softmax',name='Output_Layer')(dense_layer3)\n",
        "\n",
        "model = Model(inputs, outputs)\n",
        "model.summary()"
      ],
      "metadata": {
        "id": "_iuXOVrPUB3i",
        "colab": {
          "base_uri": "https://localhost:8080/"
        },
        "outputId": "07e4cd84-eef8-4653-de3e-95c2d6b0912c"
      },
      "execution_count": null,
      "outputs": [
        {
          "output_type": "stream",
          "name": "stdout",
          "text": [
            "Model: \"model_1\"\n",
            "_________________________________________________________________\n",
            " Layer (type)                Output Shape              Param #   \n",
            "=================================================================\n",
            " Input_Layer (InputLayer)    [(None, 756)]             0         \n",
            "                                                                 \n",
            " Dense_Layer1 (Dense)        (None, 16)                12112     \n",
            "                                                                 \n",
            " Dense_Layer2 (Dense)        (None, 32)                544       \n",
            "                                                                 \n",
            " Dense_Layer3 (Dense)        (None, 64)                2112      \n",
            "                                                                 \n",
            " Output_Layer (Dense)        (None, 10)                650       \n",
            "                                                                 \n",
            "=================================================================\n",
            "Total params: 15,418\n",
            "Trainable params: 15,418\n",
            "Non-trainable params: 0\n",
            "_________________________________________________________________\n"
          ]
        }
      ]
    },
    {
      "cell_type": "code",
      "source": [],
      "metadata": {
        "id": "54pRJ6XEecdo"
      },
      "execution_count": null,
      "outputs": []
    }
  ]
}